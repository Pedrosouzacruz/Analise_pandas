{
 "cells": [
  {
   "cell_type": "code",
   "execution_count": 75,
   "id": "82ba9dd9",
   "metadata": {},
   "outputs": [
    {
     "name": "stdout",
     "output_type": "stream",
     "text": [
      "   Pedido     Compra    Entrega  Fornecedor    Produto  Quantidade  \\\n",
      "0     1.0 2019-01-20 2019-01-31  NorthShore      Areia         4.0   \n",
      "1     2.0 2019-01-28 2019-02-07      StepUp      Areia         4.0   \n",
      "2     3.0 2019-02-23 2019-03-02     Minerva      Couro         4.0   \n",
      "3     4.0 2019-03-01 2019-03-19      StepUp  Poliéster         4.0   \n",
      "4     5.0 2019-03-04 2019-03-15     Minerva    Cimento         4.0   \n",
      "\n",
      "   Custo Unitário  Valor  Unitário  \n",
      "0            3.59            8.257  \n",
      "1            3.59            8.257  \n",
      "2            4.40           10.120  \n",
      "3            8.00           18.400  \n",
      "4           23.00           52.900  \n"
     ]
    }
   ],
   "source": [
    "import pandas as pd\n",
    "import matplotlib.pyplot as plt\n",
    "\n",
    "plt.style.use(\"seaborn-v0_8\")\n",
    "\n",
    "df = pd.read_excel(\"compras.xlsx\")\n",
    "\n",
    "print(df.head())"
   ]
  },
  {
   "cell_type": "code",
   "execution_count": 77,
   "id": "5791ebd9",
   "metadata": {},
   "outputs": [
    {
     "data": {
      "text/plain": [
       "Pedido                    float64\n",
       "Compra             datetime64[ns]\n",
       "Entrega            datetime64[ns]\n",
       "Fornecedor                 object\n",
       "Produto                    object\n",
       "Quantidade                float64\n",
       "Custo Unitário            float64\n",
       "Valor  Unitário           float64\n",
       "dtype: object"
      ]
     },
     "execution_count": 77,
     "metadata": {},
     "output_type": "execute_result"
    }
   ],
   "source": [
    "df.dtypes"
   ]
  },
  {
   "cell_type": "code",
   "execution_count": 78,
   "id": "d1330b5e",
   "metadata": {},
   "outputs": [],
   "source": [
    "#valor total de cada venda?\n",
    "df['Valor venda'] = df['Quantidade'].mul(df['Valor  Unitário'])"
   ]
  },
  {
   "cell_type": "code",
   "execution_count": 79,
   "id": "3950ba05",
   "metadata": {},
   "outputs": [
    {
     "data": {
      "text/html": [
       "<div>\n",
       "<style scoped>\n",
       "    .dataframe tbody tr th:only-of-type {\n",
       "        vertical-align: middle;\n",
       "    }\n",
       "\n",
       "    .dataframe tbody tr th {\n",
       "        vertical-align: top;\n",
       "    }\n",
       "\n",
       "    .dataframe thead th {\n",
       "        text-align: right;\n",
       "    }\n",
       "</style>\n",
       "<table border=\"1\" class=\"dataframe\">\n",
       "  <thead>\n",
       "    <tr style=\"text-align: right;\">\n",
       "      <th></th>\n",
       "      <th>Pedido</th>\n",
       "      <th>Compra</th>\n",
       "      <th>Entrega</th>\n",
       "      <th>Fornecedor</th>\n",
       "      <th>Produto</th>\n",
       "      <th>Quantidade</th>\n",
       "      <th>Custo Unitário</th>\n",
       "      <th>Valor  Unitário</th>\n",
       "      <th>Valor venda</th>\n",
       "    </tr>\n",
       "  </thead>\n",
       "  <tbody>\n",
       "    <tr>\n",
       "      <th>0</th>\n",
       "      <td>1.0</td>\n",
       "      <td>2019-01-20</td>\n",
       "      <td>2019-01-31</td>\n",
       "      <td>NorthShore</td>\n",
       "      <td>Areia</td>\n",
       "      <td>4.0</td>\n",
       "      <td>3.59</td>\n",
       "      <td>8.257</td>\n",
       "      <td>33.028</td>\n",
       "    </tr>\n",
       "  </tbody>\n",
       "</table>\n",
       "</div>"
      ],
      "text/plain": [
       "   Pedido     Compra    Entrega  Fornecedor Produto  Quantidade  \\\n",
       "0     1.0 2019-01-20 2019-01-31  NorthShore   Areia         4.0   \n",
       "\n",
       "   Custo Unitário  Valor  Unitário  Valor venda  \n",
       "0            3.59            8.257       33.028  "
      ]
     },
     "execution_count": 79,
     "metadata": {},
     "output_type": "execute_result"
    }
   ],
   "source": [
    "df.head(1)"
   ]
  },
  {
   "cell_type": "code",
   "execution_count": 80,
   "id": "376ca437",
   "metadata": {},
   "outputs": [
    {
     "data": {
      "text/plain": [
       "2016272.62"
      ]
     },
     "execution_count": 80,
     "metadata": {},
     "output_type": "execute_result"
    }
   ],
   "source": [
    "#valor total de vendas?\n",
    "round(df['Valor venda'].sum(), 2)"
   ]
  },
  {
   "cell_type": "code",
   "execution_count": 81,
   "id": "69ab2d64",
   "metadata": {},
   "outputs": [
    {
     "data": {
      "text/plain": [
       "(1048575, 9)"
      ]
     },
     "execution_count": 81,
     "metadata": {},
     "output_type": "execute_result"
    }
   ],
   "source": [
    "df.shape"
   ]
  },
  {
   "cell_type": "code",
   "execution_count": 82,
   "id": "23f76c3c",
   "metadata": {},
   "outputs": [
    {
     "data": {
      "text/plain": [
       "Pedido             1038766\n",
       "Compra             1038766\n",
       "Entrega            1038766\n",
       "Fornecedor         1038766\n",
       "Produto            1038766\n",
       "Quantidade         1038766\n",
       "Custo Unitário     1038766\n",
       "Valor  Unitário    1038766\n",
       "Valor venda        1038766\n",
       "dtype: int64"
      ]
     },
     "execution_count": 82,
     "metadata": {},
     "output_type": "execute_result"
    }
   ],
   "source": [
    "df.isnull().sum()"
   ]
  },
  {
   "cell_type": "code",
   "execution_count": 83,
   "id": "1173f184",
   "metadata": {},
   "outputs": [],
   "source": [
    "df['Custo'] = df['Quantidade'].mul(df['Custo Unitário'])"
   ]
  },
  {
   "cell_type": "code",
   "execution_count": 65,
   "id": "c5d29135",
   "metadata": {},
   "outputs": [
    {
     "data": {
      "text/html": [
       "<div>\n",
       "<style scoped>\n",
       "    .dataframe tbody tr th:only-of-type {\n",
       "        vertical-align: middle;\n",
       "    }\n",
       "\n",
       "    .dataframe tbody tr th {\n",
       "        vertical-align: top;\n",
       "    }\n",
       "\n",
       "    .dataframe thead th {\n",
       "        text-align: right;\n",
       "    }\n",
       "</style>\n",
       "<table border=\"1\" class=\"dataframe\">\n",
       "  <thead>\n",
       "    <tr style=\"text-align: right;\">\n",
       "      <th></th>\n",
       "      <th>Pedido</th>\n",
       "      <th>Compra</th>\n",
       "      <th>Entrega</th>\n",
       "      <th>Fornecedor</th>\n",
       "      <th>Produto</th>\n",
       "      <th>Quantidade</th>\n",
       "      <th>Custo Unitário</th>\n",
       "      <th>Valor  Unitário</th>\n",
       "      <th>Custo</th>\n",
       "      <th>Valor venda</th>\n",
       "      <th>Lucro</th>\n",
       "      <th>Tempo Envio</th>\n",
       "    </tr>\n",
       "  </thead>\n",
       "  <tbody>\n",
       "    <tr>\n",
       "      <th>0</th>\n",
       "      <td>1.0</td>\n",
       "      <td>2019-01-20</td>\n",
       "      <td>2019-01-31</td>\n",
       "      <td>NorthShore</td>\n",
       "      <td>Areia</td>\n",
       "      <td>4.0</td>\n",
       "      <td>3.59</td>\n",
       "      <td>8.257</td>\n",
       "      <td>14.36</td>\n",
       "      <td>33.028</td>\n",
       "      <td>18.668</td>\n",
       "      <td>11</td>\n",
       "    </tr>\n",
       "    <tr>\n",
       "      <th>1</th>\n",
       "      <td>2.0</td>\n",
       "      <td>2019-01-28</td>\n",
       "      <td>2019-02-07</td>\n",
       "      <td>StepUp</td>\n",
       "      <td>Areia</td>\n",
       "      <td>4.0</td>\n",
       "      <td>3.59</td>\n",
       "      <td>8.257</td>\n",
       "      <td>14.36</td>\n",
       "      <td>33.028</td>\n",
       "      <td>18.668</td>\n",
       "      <td>10</td>\n",
       "    </tr>\n",
       "    <tr>\n",
       "      <th>2</th>\n",
       "      <td>3.0</td>\n",
       "      <td>2019-02-23</td>\n",
       "      <td>2019-03-02</td>\n",
       "      <td>Minerva</td>\n",
       "      <td>Couro</td>\n",
       "      <td>4.0</td>\n",
       "      <td>4.40</td>\n",
       "      <td>10.120</td>\n",
       "      <td>17.60</td>\n",
       "      <td>40.480</td>\n",
       "      <td>22.880</td>\n",
       "      <td>7</td>\n",
       "    </tr>\n",
       "    <tr>\n",
       "      <th>3</th>\n",
       "      <td>4.0</td>\n",
       "      <td>2019-03-01</td>\n",
       "      <td>2019-03-19</td>\n",
       "      <td>StepUp</td>\n",
       "      <td>Poliéster</td>\n",
       "      <td>4.0</td>\n",
       "      <td>8.00</td>\n",
       "      <td>18.400</td>\n",
       "      <td>32.00</td>\n",
       "      <td>73.600</td>\n",
       "      <td>41.600</td>\n",
       "      <td>18</td>\n",
       "    </tr>\n",
       "    <tr>\n",
       "      <th>4</th>\n",
       "      <td>5.0</td>\n",
       "      <td>2019-03-04</td>\n",
       "      <td>2019-03-15</td>\n",
       "      <td>Minerva</td>\n",
       "      <td>Cimento</td>\n",
       "      <td>4.0</td>\n",
       "      <td>23.00</td>\n",
       "      <td>52.900</td>\n",
       "      <td>92.00</td>\n",
       "      <td>211.600</td>\n",
       "      <td>119.600</td>\n",
       "      <td>11</td>\n",
       "    </tr>\n",
       "    <tr>\n",
       "      <th>...</th>\n",
       "      <td>...</td>\n",
       "      <td>...</td>\n",
       "      <td>...</td>\n",
       "      <td>...</td>\n",
       "      <td>...</td>\n",
       "      <td>...</td>\n",
       "      <td>...</td>\n",
       "      <td>...</td>\n",
       "      <td>...</td>\n",
       "      <td>...</td>\n",
       "      <td>...</td>\n",
       "      <td>...</td>\n",
       "    </tr>\n",
       "    <tr>\n",
       "      <th>9804</th>\n",
       "      <td>9805.0</td>\n",
       "      <td>2021-12-31</td>\n",
       "      <td>2022-01-22</td>\n",
       "      <td>StepUp</td>\n",
       "      <td>Madeira</td>\n",
       "      <td>1.0</td>\n",
       "      <td>168.00</td>\n",
       "      <td>386.400</td>\n",
       "      <td>168.00</td>\n",
       "      <td>386.400</td>\n",
       "      <td>218.400</td>\n",
       "      <td>22</td>\n",
       "    </tr>\n",
       "    <tr>\n",
       "      <th>9805</th>\n",
       "      <td>9806.0</td>\n",
       "      <td>2022-01-01</td>\n",
       "      <td>2022-01-03</td>\n",
       "      <td>NorthShore</td>\n",
       "      <td>Tecido</td>\n",
       "      <td>4.0</td>\n",
       "      <td>18.00</td>\n",
       "      <td>41.400</td>\n",
       "      <td>72.00</td>\n",
       "      <td>165.600</td>\n",
       "      <td>93.600</td>\n",
       "      <td>2</td>\n",
       "    </tr>\n",
       "    <tr>\n",
       "      <th>9806</th>\n",
       "      <td>9807.0</td>\n",
       "      <td>2022-01-01</td>\n",
       "      <td>2022-01-12</td>\n",
       "      <td>StepUp</td>\n",
       "      <td>Madeira</td>\n",
       "      <td>4.0</td>\n",
       "      <td>168.00</td>\n",
       "      <td>386.400</td>\n",
       "      <td>672.00</td>\n",
       "      <td>1545.600</td>\n",
       "      <td>873.600</td>\n",
       "      <td>11</td>\n",
       "    </tr>\n",
       "    <tr>\n",
       "      <th>9807</th>\n",
       "      <td>9808.0</td>\n",
       "      <td>2022-01-01</td>\n",
       "      <td>2022-01-10</td>\n",
       "      <td>Atlas</td>\n",
       "      <td>Poliéster</td>\n",
       "      <td>4.0</td>\n",
       "      <td>8.00</td>\n",
       "      <td>18.400</td>\n",
       "      <td>32.00</td>\n",
       "      <td>73.600</td>\n",
       "      <td>41.600</td>\n",
       "      <td>9</td>\n",
       "    </tr>\n",
       "    <tr>\n",
       "      <th>9808</th>\n",
       "      <td>9809.0</td>\n",
       "      <td>2022-01-01</td>\n",
       "      <td>2022-01-10</td>\n",
       "      <td>Minerva</td>\n",
       "      <td>Pedra Britada</td>\n",
       "      <td>4.0</td>\n",
       "      <td>56.00</td>\n",
       "      <td>128.800</td>\n",
       "      <td>224.00</td>\n",
       "      <td>515.200</td>\n",
       "      <td>291.200</td>\n",
       "      <td>9</td>\n",
       "    </tr>\n",
       "  </tbody>\n",
       "</table>\n",
       "<p>9809 rows × 12 columns</p>\n",
       "</div>"
      ],
      "text/plain": [
       "      Pedido     Compra    Entrega  Fornecedor        Produto  Quantidade  \\\n",
       "0        1.0 2019-01-20 2019-01-31  NorthShore          Areia         4.0   \n",
       "1        2.0 2019-01-28 2019-02-07      StepUp          Areia         4.0   \n",
       "2        3.0 2019-02-23 2019-03-02     Minerva          Couro         4.0   \n",
       "3        4.0 2019-03-01 2019-03-19      StepUp      Poliéster         4.0   \n",
       "4        5.0 2019-03-04 2019-03-15     Minerva        Cimento         4.0   \n",
       "...      ...        ...        ...         ...            ...         ...   \n",
       "9804  9805.0 2021-12-31 2022-01-22      StepUp        Madeira         1.0   \n",
       "9805  9806.0 2022-01-01 2022-01-03  NorthShore         Tecido         4.0   \n",
       "9806  9807.0 2022-01-01 2022-01-12      StepUp        Madeira         4.0   \n",
       "9807  9808.0 2022-01-01 2022-01-10       Atlas      Poliéster         4.0   \n",
       "9808  9809.0 2022-01-01 2022-01-10     Minerva  Pedra Britada         4.0   \n",
       "\n",
       "      Custo Unitário  Valor  Unitário   Custo  Valor venda    Lucro  \\\n",
       "0               3.59            8.257   14.36       33.028   18.668   \n",
       "1               3.59            8.257   14.36       33.028   18.668   \n",
       "2               4.40           10.120   17.60       40.480   22.880   \n",
       "3               8.00           18.400   32.00       73.600   41.600   \n",
       "4              23.00           52.900   92.00      211.600  119.600   \n",
       "...              ...              ...     ...          ...      ...   \n",
       "9804          168.00          386.400  168.00      386.400  218.400   \n",
       "9805           18.00           41.400   72.00      165.600   93.600   \n",
       "9806          168.00          386.400  672.00     1545.600  873.600   \n",
       "9807            8.00           18.400   32.00       73.600   41.600   \n",
       "9808           56.00          128.800  224.00      515.200  291.200   \n",
       "\n",
       "      Tempo Envio  \n",
       "0              11  \n",
       "1              10  \n",
       "2               7  \n",
       "3              18  \n",
       "4              11  \n",
       "...           ...  \n",
       "9804           22  \n",
       "9805            2  \n",
       "9806           11  \n",
       "9807            9  \n",
       "9808            9  \n",
       "\n",
       "[9809 rows x 12 columns]"
      ]
     },
     "execution_count": 65,
     "metadata": {},
     "output_type": "execute_result"
    }
   ],
   "source": [
    "df.drop(['valor venda'], axis=1)"
   ]
  },
  {
   "cell_type": "code",
   "execution_count": 84,
   "id": "cd1968d7",
   "metadata": {},
   "outputs": [
    {
     "data": {
      "text/plain": [
       "876640.27"
      ]
     },
     "execution_count": 84,
     "metadata": {},
     "output_type": "execute_result"
    }
   ],
   "source": [
    "round(df['Custo'].sum(), 2)"
   ]
  },
  {
   "cell_type": "code",
   "execution_count": 87,
   "id": "4e5592e1",
   "metadata": {},
   "outputs": [],
   "source": [
    "#Lucro\n",
    "df['Lucro'] = df['Valor venda'] - df['Custo']"
   ]
  },
  {
   "cell_type": "code",
   "execution_count": 88,
   "id": "960c82bb",
   "metadata": {},
   "outputs": [
    {
     "data": {
      "text/html": [
       "<div>\n",
       "<style scoped>\n",
       "    .dataframe tbody tr th:only-of-type {\n",
       "        vertical-align: middle;\n",
       "    }\n",
       "\n",
       "    .dataframe tbody tr th {\n",
       "        vertical-align: top;\n",
       "    }\n",
       "\n",
       "    .dataframe thead th {\n",
       "        text-align: right;\n",
       "    }\n",
       "</style>\n",
       "<table border=\"1\" class=\"dataframe\">\n",
       "  <thead>\n",
       "    <tr style=\"text-align: right;\">\n",
       "      <th></th>\n",
       "      <th>Pedido</th>\n",
       "      <th>Compra</th>\n",
       "      <th>Entrega</th>\n",
       "      <th>Fornecedor</th>\n",
       "      <th>Produto</th>\n",
       "      <th>Quantidade</th>\n",
       "      <th>Custo Unitário</th>\n",
       "      <th>Valor  Unitário</th>\n",
       "      <th>Valor venda</th>\n",
       "      <th>Custo</th>\n",
       "      <th>Lucro</th>\n",
       "    </tr>\n",
       "  </thead>\n",
       "  <tbody>\n",
       "    <tr>\n",
       "      <th>0</th>\n",
       "      <td>1.0</td>\n",
       "      <td>2019-01-20</td>\n",
       "      <td>2019-01-31</td>\n",
       "      <td>NorthShore</td>\n",
       "      <td>Areia</td>\n",
       "      <td>4.0</td>\n",
       "      <td>3.59</td>\n",
       "      <td>8.257</td>\n",
       "      <td>33.028</td>\n",
       "      <td>14.36</td>\n",
       "      <td>18.668</td>\n",
       "    </tr>\n",
       "  </tbody>\n",
       "</table>\n",
       "</div>"
      ],
      "text/plain": [
       "   Pedido     Compra    Entrega  Fornecedor Produto  Quantidade  \\\n",
       "0     1.0 2019-01-20 2019-01-31  NorthShore   Areia         4.0   \n",
       "\n",
       "   Custo Unitário  Valor  Unitário  Valor venda  Custo   Lucro  \n",
       "0            3.59            8.257       33.028  14.36  18.668  "
      ]
     },
     "execution_count": 88,
     "metadata": {},
     "output_type": "execute_result"
    }
   ],
   "source": [
    "df.head(1)"
   ]
  },
  {
   "cell_type": "code",
   "execution_count": 89,
   "id": "88fda457",
   "metadata": {},
   "outputs": [
    {
     "data": {
      "text/plain": [
       "1139632.351"
      ]
     },
     "execution_count": 89,
     "metadata": {},
     "output_type": "execute_result"
    }
   ],
   "source": [
    "#Lucro Total\n",
    "df['Lucro'].sum()"
   ]
  },
  {
   "cell_type": "code",
   "execution_count": 91,
   "id": "faa146ce",
   "metadata": {},
   "outputs": [],
   "source": [
    "#quantos dias levou para entregar?\n",
    "df['Tempo Envio'] = (df['Entrega'] - df['Compra']).dt.days"
   ]
  },
  {
   "cell_type": "code",
   "execution_count": 93,
   "id": "c130c53f",
   "metadata": {},
   "outputs": [
    {
     "data": {
      "text/html": [
       "<div>\n",
       "<style scoped>\n",
       "    .dataframe tbody tr th:only-of-type {\n",
       "        vertical-align: middle;\n",
       "    }\n",
       "\n",
       "    .dataframe tbody tr th {\n",
       "        vertical-align: top;\n",
       "    }\n",
       "\n",
       "    .dataframe thead th {\n",
       "        text-align: right;\n",
       "    }\n",
       "</style>\n",
       "<table border=\"1\" class=\"dataframe\">\n",
       "  <thead>\n",
       "    <tr style=\"text-align: right;\">\n",
       "      <th></th>\n",
       "      <th>Pedido</th>\n",
       "      <th>Compra</th>\n",
       "      <th>Entrega</th>\n",
       "      <th>Fornecedor</th>\n",
       "      <th>Produto</th>\n",
       "      <th>Quantidade</th>\n",
       "      <th>Custo Unitário</th>\n",
       "      <th>Valor  Unitário</th>\n",
       "      <th>Valor venda</th>\n",
       "      <th>Custo</th>\n",
       "      <th>Lucro</th>\n",
       "      <th>Tempo Envio</th>\n",
       "    </tr>\n",
       "  </thead>\n",
       "  <tbody>\n",
       "    <tr>\n",
       "      <th>0</th>\n",
       "      <td>1.0</td>\n",
       "      <td>2019-01-20</td>\n",
       "      <td>2019-01-31</td>\n",
       "      <td>NorthShore</td>\n",
       "      <td>Areia</td>\n",
       "      <td>4.0</td>\n",
       "      <td>3.59</td>\n",
       "      <td>8.257</td>\n",
       "      <td>33.028</td>\n",
       "      <td>14.36</td>\n",
       "      <td>18.668</td>\n",
       "      <td>11.0</td>\n",
       "    </tr>\n",
       "  </tbody>\n",
       "</table>\n",
       "</div>"
      ],
      "text/plain": [
       "   Pedido     Compra    Entrega  Fornecedor Produto  Quantidade  \\\n",
       "0     1.0 2019-01-20 2019-01-31  NorthShore   Areia         4.0   \n",
       "\n",
       "   Custo Unitário  Valor  Unitário  Valor venda  Custo   Lucro  Tempo Envio  \n",
       "0            3.59            8.257       33.028  14.36  18.668         11.0  "
      ]
     },
     "execution_count": 93,
     "metadata": {},
     "output_type": "execute_result"
    }
   ],
   "source": [
    "df.head(1)"
   ]
  },
  {
   "cell_type": "code",
   "execution_count": 94,
   "id": "e9a0b43f",
   "metadata": {},
   "outputs": [
    {
     "data": {
      "text/plain": [
       "dtype('float64')"
      ]
     },
     "execution_count": 94,
     "metadata": {},
     "output_type": "execute_result"
    }
   ],
   "source": [
    "df['Tempo Envio'].dtypes"
   ]
  },
  {
   "cell_type": "code",
   "execution_count": 95,
   "id": "b3cbecb1",
   "metadata": {},
   "outputs": [
    {
     "data": {
      "text/plain": [
       "Fornecedor\n",
       "AlphaOmega    18.139785\n",
       "Atlas         17.890582\n",
       "Minerva       18.292361\n",
       "NorthShore    18.136822\n",
       "StepUp        18.256726\n",
       "Name: Tempo Envio, dtype: float64"
      ]
     },
     "execution_count": 95,
     "metadata": {},
     "output_type": "execute_result"
    }
   ],
   "source": [
    "df.groupby('Fornecedor')['Tempo Envio'].mean()"
   ]
  },
  {
   "cell_type": "code",
   "execution_count": 96,
   "id": "553cc10f",
   "metadata": {},
   "outputs": [
    {
     "data": {
      "text/plain": [
       "Compra  Fornecedor\n",
       "2019.0  AlphaOmega     30515.615\n",
       "        Atlas          24688.248\n",
       "        Minerva       116245.935\n",
       "        NorthShore     50669.203\n",
       "        StepUp         86769.488\n",
       "2020.0  AlphaOmega     39723.281\n",
       "        Atlas          25295.933\n",
       "        Minerva       175607.939\n",
       "        NorthShore     57371.951\n",
       "        StepUp        107508.674\n",
       "2021.0  AlphaOmega     53509.638\n",
       "        Atlas          38375.038\n",
       "        Minerva       147394.611\n",
       "        NorthShore     87199.086\n",
       "        StepUp         97457.711\n",
       "2022.0  Atlas             41.600\n",
       "        Minerva          291.200\n",
       "        NorthShore        93.600\n",
       "        StepUp           873.600\n",
       "Name: Lucro, dtype: float64"
      ]
     },
     "execution_count": 96,
     "metadata": {},
     "output_type": "execute_result"
    }
   ],
   "source": [
    "df.groupby([df[\"Compra\"].dt.year, \"Fornecedor\"])['Lucro'].sum()"
   ]
  },
  {
   "cell_type": "code",
   "execution_count": 54,
   "id": "045e36eb",
   "metadata": {},
   "outputs": [
    {
     "data": {
      "text/html": [
       "<div>\n",
       "<style scoped>\n",
       "    .dataframe tbody tr th:only-of-type {\n",
       "        vertical-align: middle;\n",
       "    }\n",
       "\n",
       "    .dataframe tbody tr th {\n",
       "        vertical-align: top;\n",
       "    }\n",
       "\n",
       "    .dataframe thead th {\n",
       "        text-align: right;\n",
       "    }\n",
       "</style>\n",
       "<table border=\"1\" class=\"dataframe\">\n",
       "  <thead>\n",
       "    <tr style=\"text-align: right;\">\n",
       "      <th></th>\n",
       "      <th>Compra</th>\n",
       "      <th>Fornecedor</th>\n",
       "      <th>Lucro</th>\n",
       "    </tr>\n",
       "  </thead>\n",
       "  <tbody>\n",
       "    <tr>\n",
       "      <th>0</th>\n",
       "      <td>2019</td>\n",
       "      <td>AlphaOmega</td>\n",
       "      <td>30515.615</td>\n",
       "    </tr>\n",
       "    <tr>\n",
       "      <th>1</th>\n",
       "      <td>2019</td>\n",
       "      <td>Atlas</td>\n",
       "      <td>24688.248</td>\n",
       "    </tr>\n",
       "    <tr>\n",
       "      <th>2</th>\n",
       "      <td>2019</td>\n",
       "      <td>Minerva</td>\n",
       "      <td>116245.935</td>\n",
       "    </tr>\n",
       "    <tr>\n",
       "      <th>3</th>\n",
       "      <td>2019</td>\n",
       "      <td>NorthShore</td>\n",
       "      <td>50669.203</td>\n",
       "    </tr>\n",
       "    <tr>\n",
       "      <th>4</th>\n",
       "      <td>2019</td>\n",
       "      <td>StepUp</td>\n",
       "      <td>86769.488</td>\n",
       "    </tr>\n",
       "    <tr>\n",
       "      <th>5</th>\n",
       "      <td>2020</td>\n",
       "      <td>AlphaOmega</td>\n",
       "      <td>39723.281</td>\n",
       "    </tr>\n",
       "    <tr>\n",
       "      <th>6</th>\n",
       "      <td>2020</td>\n",
       "      <td>Atlas</td>\n",
       "      <td>25295.933</td>\n",
       "    </tr>\n",
       "    <tr>\n",
       "      <th>7</th>\n",
       "      <td>2020</td>\n",
       "      <td>Minerva</td>\n",
       "      <td>175607.939</td>\n",
       "    </tr>\n",
       "    <tr>\n",
       "      <th>8</th>\n",
       "      <td>2020</td>\n",
       "      <td>NorthShore</td>\n",
       "      <td>57371.951</td>\n",
       "    </tr>\n",
       "    <tr>\n",
       "      <th>9</th>\n",
       "      <td>2020</td>\n",
       "      <td>StepUp</td>\n",
       "      <td>107508.674</td>\n",
       "    </tr>\n",
       "    <tr>\n",
       "      <th>10</th>\n",
       "      <td>2021</td>\n",
       "      <td>AlphaOmega</td>\n",
       "      <td>53509.638</td>\n",
       "    </tr>\n",
       "    <tr>\n",
       "      <th>11</th>\n",
       "      <td>2021</td>\n",
       "      <td>Atlas</td>\n",
       "      <td>38375.038</td>\n",
       "    </tr>\n",
       "    <tr>\n",
       "      <th>12</th>\n",
       "      <td>2021</td>\n",
       "      <td>Minerva</td>\n",
       "      <td>147394.611</td>\n",
       "    </tr>\n",
       "    <tr>\n",
       "      <th>13</th>\n",
       "      <td>2021</td>\n",
       "      <td>NorthShore</td>\n",
       "      <td>87199.086</td>\n",
       "    </tr>\n",
       "    <tr>\n",
       "      <th>14</th>\n",
       "      <td>2021</td>\n",
       "      <td>StepUp</td>\n",
       "      <td>97457.711</td>\n",
       "    </tr>\n",
       "    <tr>\n",
       "      <th>15</th>\n",
       "      <td>2022</td>\n",
       "      <td>Atlas</td>\n",
       "      <td>41.600</td>\n",
       "    </tr>\n",
       "    <tr>\n",
       "      <th>16</th>\n",
       "      <td>2022</td>\n",
       "      <td>Minerva</td>\n",
       "      <td>291.200</td>\n",
       "    </tr>\n",
       "    <tr>\n",
       "      <th>17</th>\n",
       "      <td>2022</td>\n",
       "      <td>NorthShore</td>\n",
       "      <td>93.600</td>\n",
       "    </tr>\n",
       "    <tr>\n",
       "      <th>18</th>\n",
       "      <td>2022</td>\n",
       "      <td>StepUp</td>\n",
       "      <td>873.600</td>\n",
       "    </tr>\n",
       "  </tbody>\n",
       "</table>\n",
       "</div>"
      ],
      "text/plain": [
       "    Compra  Fornecedor       Lucro\n",
       "0     2019  AlphaOmega   30515.615\n",
       "1     2019       Atlas   24688.248\n",
       "2     2019     Minerva  116245.935\n",
       "3     2019  NorthShore   50669.203\n",
       "4     2019      StepUp   86769.488\n",
       "5     2020  AlphaOmega   39723.281\n",
       "6     2020       Atlas   25295.933\n",
       "7     2020     Minerva  175607.939\n",
       "8     2020  NorthShore   57371.951\n",
       "9     2020      StepUp  107508.674\n",
       "10    2021  AlphaOmega   53509.638\n",
       "11    2021       Atlas   38375.038\n",
       "12    2021     Minerva  147394.611\n",
       "13    2021  NorthShore   87199.086\n",
       "14    2021      StepUp   97457.711\n",
       "15    2022       Atlas      41.600\n",
       "16    2022     Minerva     291.200\n",
       "17    2022  NorthShore      93.600\n",
       "18    2022      StepUp     873.600"
      ]
     },
     "execution_count": 54,
     "metadata": {},
     "output_type": "execute_result"
    }
   ],
   "source": [
    "#Planilha Lucro por ano \n",
    "Lucro_ano = df.groupby([df[\"Compra\"].dt.year, \"Fornecedor\"])['Lucro'].sum().reset_index()\n",
    "Lucro_ano"
   ]
  },
  {
   "cell_type": "code",
   "execution_count": 97,
   "id": "4fba593a",
   "metadata": {},
   "outputs": [
    {
     "data": {
      "text/plain": [
       "Produto\n",
       "Areia            3783.0\n",
       "Couro            3447.0\n",
       "Poliéster        3326.0\n",
       "Papel            2936.0\n",
       "Tecido           2550.0\n",
       "Cimento          2062.0\n",
       "Fio Algodão      1705.0\n",
       "Pedra Britada    1286.0\n",
       "Madeira           964.0\n",
       "Chapa Metal       580.0\n",
       "Barra Metal       351.0\n",
       "Name: Quantidade, dtype: float64"
      ]
     },
     "execution_count": 97,
     "metadata": {},
     "output_type": "execute_result"
    }
   ],
   "source": [
    "#quantidade de produtos vendidas\n",
    "df.groupby('Produto')['Quantidade'].sum().sort_values(ascending=False)"
   ]
  },
  {
   "cell_type": "code",
   "execution_count": 60,
   "id": "145be32f",
   "metadata": {},
   "outputs": [
    {
     "data": {
      "text/plain": [
       "Text(0, 0.5, 'Quantidade')"
      ]
     },
     "execution_count": 60,
     "metadata": {},
     "output_type": "execute_result"
    },
    {
     "data": {
      "image/png": "[encoded data removed]",
      "text/plain": [
       "<Figure size 800x550 with 1 Axes>"
      ]
     },
     "metadata": {},
     "output_type": "display_data"
    }
   ],
   "source": [
    "#Plotando o Grafico Produto x Quantidade\n",
    "df.groupby('Produto')['Quantidade'].sum().sort_values(ascending=True).plot.barh(title= \"Produto X Qauntidade\")\n",
    "plt.xlabel('Produto')\n",
    "plt.ylabel('Quantidade')"
   ]
  },
  {
   "cell_type": "code",
   "execution_count": 98,
   "id": "d26b5411",
   "metadata": {},
   "outputs": [
    {
     "data": {
      "text/plain": [
       "Text(0, 0.5, 'Receita')"
      ]
     },
     "execution_count": 98,
     "metadata": {},
     "output_type": "execute_result"
    },
    {
     "data": {
      "image/png": "[encoded data removed]",
      "text/plain": [
       "<Figure size 800x550 with 1 Axes>"
      ]
     },
     "metadata": {},
     "output_type": "display_data"
    }
   ],
   "source": [
    "#Plotando o grafico Lucro x Ano\n",
    "df.groupby(df['Compra'].dt.year)['Lucro'].sum().plot.bar(title = 'Lucro x Ano')\n",
    "plt.xlabel('Ano')\n",
    "plt.ylabel('Receita')"
   ]
  },
  {
   "cell_type": "code",
   "execution_count": 101,
   "id": "945b6e6e",
   "metadata": {},
   "outputs": [],
   "source": [
    "df_2021 = df[df['Compra'].dt.year == 2021]"
   ]
  },
  {
   "cell_type": "code",
   "execution_count": 102,
   "id": "41f35b19",
   "metadata": {},
   "outputs": [
    {
     "data": {
      "text/html": [
       "<div>\n",
       "<style scoped>\n",
       "    .dataframe tbody tr th:only-of-type {\n",
       "        vertical-align: middle;\n",
       "    }\n",
       "\n",
       "    .dataframe tbody tr th {\n",
       "        vertical-align: top;\n",
       "    }\n",
       "\n",
       "    .dataframe thead th {\n",
       "        text-align: right;\n",
       "    }\n",
       "</style>\n",
       "<table border=\"1\" class=\"dataframe\">\n",
       "  <thead>\n",
       "    <tr style=\"text-align: right;\">\n",
       "      <th></th>\n",
       "      <th>Pedido</th>\n",
       "      <th>Compra</th>\n",
       "      <th>Entrega</th>\n",
       "      <th>Fornecedor</th>\n",
       "      <th>Produto</th>\n",
       "      <th>Quantidade</th>\n",
       "      <th>Custo Unitário</th>\n",
       "      <th>Valor  Unitário</th>\n",
       "      <th>Valor venda</th>\n",
       "      <th>Custo</th>\n",
       "      <th>Lucro</th>\n",
       "      <th>Tempo Envio</th>\n",
       "    </tr>\n",
       "  </thead>\n",
       "  <tbody>\n",
       "    <tr>\n",
       "      <th>6163</th>\n",
       "      <td>6164.0</td>\n",
       "      <td>2021-01-01</td>\n",
       "      <td>2021-02-03</td>\n",
       "      <td>Minerva</td>\n",
       "      <td>Papel</td>\n",
       "      <td>1.0</td>\n",
       "      <td>9.00</td>\n",
       "      <td>20.700</td>\n",
       "      <td>20.700</td>\n",
       "      <td>9.00</td>\n",
       "      <td>11.700</td>\n",
       "      <td>33.0</td>\n",
       "    </tr>\n",
       "    <tr>\n",
       "      <th>6164</th>\n",
       "      <td>6165.0</td>\n",
       "      <td>2021-01-01</td>\n",
       "      <td>2021-01-10</td>\n",
       "      <td>StepUp</td>\n",
       "      <td>Areia</td>\n",
       "      <td>4.0</td>\n",
       "      <td>3.59</td>\n",
       "      <td>8.257</td>\n",
       "      <td>33.028</td>\n",
       "      <td>14.36</td>\n",
       "      <td>18.668</td>\n",
       "      <td>9.0</td>\n",
       "    </tr>\n",
       "    <tr>\n",
       "      <th>6165</th>\n",
       "      <td>6166.0</td>\n",
       "      <td>2021-01-01</td>\n",
       "      <td>2021-01-07</td>\n",
       "      <td>Minerva</td>\n",
       "      <td>Couro</td>\n",
       "      <td>4.0</td>\n",
       "      <td>4.40</td>\n",
       "      <td>10.120</td>\n",
       "      <td>40.480</td>\n",
       "      <td>17.60</td>\n",
       "      <td>22.880</td>\n",
       "      <td>6.0</td>\n",
       "    </tr>\n",
       "    <tr>\n",
       "      <th>6166</th>\n",
       "      <td>6167.0</td>\n",
       "      <td>2021-01-01</td>\n",
       "      <td>2021-01-21</td>\n",
       "      <td>Minerva</td>\n",
       "      <td>Poliéster</td>\n",
       "      <td>1.0</td>\n",
       "      <td>8.00</td>\n",
       "      <td>18.400</td>\n",
       "      <td>18.400</td>\n",
       "      <td>8.00</td>\n",
       "      <td>10.400</td>\n",
       "      <td>20.0</td>\n",
       "    </tr>\n",
       "    <tr>\n",
       "      <th>6167</th>\n",
       "      <td>6168.0</td>\n",
       "      <td>2021-01-01</td>\n",
       "      <td>2021-01-23</td>\n",
       "      <td>NorthShore</td>\n",
       "      <td>Papel</td>\n",
       "      <td>1.0</td>\n",
       "      <td>9.00</td>\n",
       "      <td>20.700</td>\n",
       "      <td>20.700</td>\n",
       "      <td>9.00</td>\n",
       "      <td>11.700</td>\n",
       "      <td>22.0</td>\n",
       "    </tr>\n",
       "  </tbody>\n",
       "</table>\n",
       "</div>"
      ],
      "text/plain": [
       "      Pedido     Compra    Entrega  Fornecedor    Produto  Quantidade  \\\n",
       "6163  6164.0 2021-01-01 2021-02-03     Minerva      Papel         1.0   \n",
       "6164  6165.0 2021-01-01 2021-01-10      StepUp      Areia         4.0   \n",
       "6165  6166.0 2021-01-01 2021-01-07     Minerva      Couro         4.0   \n",
       "6166  6167.0 2021-01-01 2021-01-21     Minerva  Poliéster         1.0   \n",
       "6167  6168.0 2021-01-01 2021-01-23  NorthShore      Papel         1.0   \n",
       "\n",
       "      Custo Unitário  Valor  Unitário  Valor venda  Custo   Lucro  Tempo Envio  \n",
       "6163            9.00           20.700       20.700   9.00  11.700         33.0  \n",
       "6164            3.59            8.257       33.028  14.36  18.668          9.0  \n",
       "6165            4.40           10.120       40.480  17.60  22.880          6.0  \n",
       "6166            8.00           18.400       18.400   8.00  10.400         20.0  \n",
       "6167            9.00           20.700       20.700   9.00  11.700         22.0  "
      ]
     },
     "execution_count": 102,
     "metadata": {},
     "output_type": "execute_result"
    }
   ],
   "source": [
    "df_2021.head()"
   ]
  },
  {
   "cell_type": "code",
   "execution_count": 103,
   "id": "66f7abd7",
   "metadata": {},
   "outputs": [
    {
     "data": {
      "text/plain": [
       "Text(0, 0.5, 'Lucro')"
      ]
     },
     "execution_count": 103,
     "metadata": {},
     "output_type": "execute_result"
    },
    {
     "data": {
      "image/png": "[encoded data removed]",
      "text/plain": [
       "<Figure size 800x550 with 1 Axes>"
      ]
     },
     "metadata": {},
     "output_type": "display_data"
    }
   ],
   "source": [
    "df_2021.groupby(df['Compra'].dt.month)['Lucro'].sum().plot.bar(title = 'Lucro x Mês')\n",
    "plt.xlabel('Mes')\n",
    "plt.ylabel('Lucro')"
   ]
  },
  {
   "cell_type": "code",
   "execution_count": 104,
   "id": "72c68e95",
   "metadata": {},
   "outputs": [
    {
     "data": {
      "text/plain": [
       "(array([-0.5,  0. ,  0.5,  1. ,  1.5,  2. ,  2.5,  3. ,  3.5,  4. ,  4.5]),\n",
       " [Text(-0.5, 0, ''),\n",
       "  Text(0.0, 0, 'AlphaOmega'),\n",
       "  Text(0.5, 0, ''),\n",
       "  Text(1.0, 0, 'Atlas'),\n",
       "  Text(1.5, 0, ''),\n",
       "  Text(2.0, 0, 'Minerva'),\n",
       "  Text(2.5, 0, ''),\n",
       "  Text(3.0, 0, 'NorthShore'),\n",
       "  Text(3.5, 0, ''),\n",
       "  Text(4.0, 0, 'StepUp'),\n",
       "  Text(4.5, 0, '')])"
      ]
     },
     "execution_count": 104,
     "metadata": {},
     "output_type": "execute_result"
    },
    {
     "data": {
      "image/png": "[encoded data removed]",
      "text/plain": [
       "<Figure size 800x550 with 1 Axes>"
      ]
     },
     "metadata": {},
     "output_type": "display_data"
    }
   ],
   "source": [
    "df.groupby('Fornecedor')['Lucro'].sum().plot(title= \"Fornecedor x Lucro\")\n",
    "plt.xlabel('Fornecedor')\n",
    "plt.ylabel('Lucro')\n",
    "plt.xticks(rotation= 'horizontal')"
   ]
  },
  {
   "cell_type": "code",
   "execution_count": 107,
   "id": "dc186976",
   "metadata": {},
   "outputs": [
    {
     "data": {
      "text/plain": [
       "(array([-2.,  0.,  2.,  4.,  6.,  8., 10., 12.]),\n",
       " [Text(-2.0, 0, 'Poliéster'),\n",
       "  Text(0.0, 0, 'Areia'),\n",
       "  Text(2.0, 0, 'Chapa Metal'),\n",
       "  Text(4.0, 0, 'Couro'),\n",
       "  Text(6.0, 0, 'Madeira'),\n",
       "  Text(8.0, 0, 'Pedra Britada'),\n",
       "  Text(10.0, 0, 'Tecido'),\n",
       "  Text(12.0, 0, '')])"
      ]
     },
     "execution_count": 107,
     "metadata": {},
     "output_type": "execute_result"
    },
    {
     "data": {
      "image/png": "[encoded data removed]",
      "text/plain": [
       "<Figure size 800x550 with 1 Axes>"
      ]
     },
     "metadata": {},
     "output_type": "display_data"
    }
   ],
   "source": [
    "df.groupby('Produto')['Lucro'].sum().plot(title= \"Produto x Lucro\")\n",
    "plt.xlabel('Produto')\n",
    "plt.ylabel('Lucro')\n",
    "plt.xticks(rotation= 'horizontal')"
   ]
  },
  {
   "cell_type": "code",
   "execution_count": 108,
   "id": "8c4cd5c5",
   "metadata": {},
   "outputs": [
    {
     "data": {
      "text/plain": [
       "count    9809.000000\n",
       "mean       18.210827\n",
       "std         8.272875\n",
       "min         2.000000\n",
       "25%        11.000000\n",
       "50%        17.000000\n",
       "75%        23.000000\n",
       "max        37.000000\n",
       "Name: Tempo Envio, dtype: float64"
      ]
     },
     "execution_count": 108,
     "metadata": {},
     "output_type": "execute_result"
    }
   ],
   "source": [
    "df['Tempo Envio'].describe()"
   ]
  },
  {
   "cell_type": "code",
   "execution_count": 118,
   "id": "9113e611",
   "metadata": {},
   "outputs": [
    {
     "data": {
      "text/plain": [
       "{'whiskers': [<matplotlib.lines.Line2D at 0x1678e7fb370>,\n",
       "  <matplotlib.lines.Line2D at 0x1678e7fb610>],\n",
       " 'caps': [<matplotlib.lines.Line2D at 0x1678e7fa020>,\n",
       "  <matplotlib.lines.Line2D at 0x1678e7fba30>],\n",
       " 'boxes': [<matplotlib.lines.Line2D at 0x1678e7fb0d0>],\n",
       " 'medians': [<matplotlib.lines.Line2D at 0x1678e7fbcd0>],\n",
       " 'fliers': [<matplotlib.lines.Line2D at 0x1678e7fbf70>],\n",
       " 'means': []}"
      ]
     },
     "execution_count": 118,
     "metadata": {},
     "output_type": "execute_result"
    },
    {
     "data": {
      "image/png": "[encoded data removed]",
      "text/plain": [
       "<Figure size 800x550 with 1 Axes>"
      ]
     },
     "metadata": {},
     "output_type": "display_data"
    }
   ],
   "source": [
    "plt.boxplot(df['Tempo Envio'])"
   ]
  },
  {
   "cell_type": "code",
   "execution_count": 117,
   "id": "e38d6f0f",
   "metadata": {},
   "outputs": [
    {
     "data": {
      "text/plain": [
       "(array([ 100., 1008., 1826., 1253., 1565., 1401.,  933.,  252.,  942.,\n",
       "         529.]),\n",
       " array([ 2. ,  5.5,  9. , 12.5, 16. , 19.5, 23. , 26.5, 30. , 33.5, 37. ]),\n",
       " <BarContainer object of 10 artists>)"
      ]
     },
     "execution_count": 117,
     "metadata": {},
     "output_type": "execute_result"
    },
    {
     "data": {
      "image/png": "[encoded data removed]",
      "text/plain": [
       "<Figure size 800x550 with 1 Axes>"
      ]
     },
     "metadata": {},
     "output_type": "display_data"
    }
   ],
   "source": [
    "plt.hist(df['Tempo Envio'])"
   ]
  },
  {
   "cell_type": "code",
   "execution_count": 119,
   "id": "9a1b7781",
   "metadata": {},
   "outputs": [
    {
     "data": {
      "text/plain": [
       "2.0"
      ]
     },
     "execution_count": 119,
     "metadata": {},
     "output_type": "execute_result"
    }
   ],
   "source": [
    "df['Tempo Envio'].min()"
   ]
  },
  {
   "cell_type": "code",
   "execution_count": 120,
   "id": "45d0dc2b",
   "metadata": {},
   "outputs": [
    {
     "data": {
      "text/plain": [
       "37.0"
      ]
     },
     "execution_count": 120,
     "metadata": {},
     "output_type": "execute_result"
    }
   ],
   "source": [
    "df['Tempo Envio'].max()"
   ]
  },
  {
   "cell_type": "code",
   "execution_count": 121,
   "id": "01d085df",
   "metadata": {},
   "outputs": [
    {
     "data": {
      "text/html": [
       "<div>\n",
       "<style scoped>\n",
       "    .dataframe tbody tr th:only-of-type {\n",
       "        vertical-align: middle;\n",
       "    }\n",
       "\n",
       "    .dataframe tbody tr th {\n",
       "        vertical-align: top;\n",
       "    }\n",
       "\n",
       "    .dataframe thead th {\n",
       "        text-align: right;\n",
       "    }\n",
       "</style>\n",
       "<table border=\"1\" class=\"dataframe\">\n",
       "  <thead>\n",
       "    <tr style=\"text-align: right;\">\n",
       "      <th></th>\n",
       "      <th>Pedido</th>\n",
       "      <th>Compra</th>\n",
       "      <th>Entrega</th>\n",
       "      <th>Fornecedor</th>\n",
       "      <th>Produto</th>\n",
       "      <th>Quantidade</th>\n",
       "      <th>Custo Unitário</th>\n",
       "      <th>Valor  Unitário</th>\n",
       "      <th>Valor venda</th>\n",
       "      <th>Custo</th>\n",
       "      <th>Lucro</th>\n",
       "      <th>Tempo Envio</th>\n",
       "    </tr>\n",
       "  </thead>\n",
       "  <tbody>\n",
       "    <tr>\n",
       "      <th>1460</th>\n",
       "      <td>1461.0</td>\n",
       "      <td>2019-09-12</td>\n",
       "      <td>2019-10-19</td>\n",
       "      <td>Minerva</td>\n",
       "      <td>Poliéster</td>\n",
       "      <td>1.0</td>\n",
       "      <td>8.00</td>\n",
       "      <td>18.400</td>\n",
       "      <td>18.400</td>\n",
       "      <td>8.00</td>\n",
       "      <td>10.400</td>\n",
       "      <td>37.0</td>\n",
       "    </tr>\n",
       "    <tr>\n",
       "      <th>2529</th>\n",
       "      <td>2530.0</td>\n",
       "      <td>2019-12-31</td>\n",
       "      <td>2020-02-06</td>\n",
       "      <td>NorthShore</td>\n",
       "      <td>Couro</td>\n",
       "      <td>1.0</td>\n",
       "      <td>4.40</td>\n",
       "      <td>10.120</td>\n",
       "      <td>10.120</td>\n",
       "      <td>4.40</td>\n",
       "      <td>5.720</td>\n",
       "      <td>37.0</td>\n",
       "    </tr>\n",
       "    <tr>\n",
       "      <th>3815</th>\n",
       "      <td>3816.0</td>\n",
       "      <td>2020-05-10</td>\n",
       "      <td>2020-06-16</td>\n",
       "      <td>Minerva</td>\n",
       "      <td>Poliéster</td>\n",
       "      <td>1.0</td>\n",
       "      <td>8.00</td>\n",
       "      <td>18.400</td>\n",
       "      <td>18.400</td>\n",
       "      <td>8.00</td>\n",
       "      <td>10.400</td>\n",
       "      <td>37.0</td>\n",
       "    </tr>\n",
       "    <tr>\n",
       "      <th>5722</th>\n",
       "      <td>5723.0</td>\n",
       "      <td>2020-11-18</td>\n",
       "      <td>2020-12-25</td>\n",
       "      <td>Minerva</td>\n",
       "      <td>Papel</td>\n",
       "      <td>1.0</td>\n",
       "      <td>9.00</td>\n",
       "      <td>20.700</td>\n",
       "      <td>20.700</td>\n",
       "      <td>9.00</td>\n",
       "      <td>11.700</td>\n",
       "      <td>37.0</td>\n",
       "    </tr>\n",
       "    <tr>\n",
       "      <th>6765</th>\n",
       "      <td>6766.0</td>\n",
       "      <td>2021-03-02</td>\n",
       "      <td>2021-04-08</td>\n",
       "      <td>StepUp</td>\n",
       "      <td>Areia</td>\n",
       "      <td>1.0</td>\n",
       "      <td>3.59</td>\n",
       "      <td>8.257</td>\n",
       "      <td>8.257</td>\n",
       "      <td>3.59</td>\n",
       "      <td>4.667</td>\n",
       "      <td>37.0</td>\n",
       "    </tr>\n",
       "    <tr>\n",
       "      <th>6820</th>\n",
       "      <td>6821.0</td>\n",
       "      <td>2021-03-08</td>\n",
       "      <td>2021-04-14</td>\n",
       "      <td>Minerva</td>\n",
       "      <td>Fio Algodão</td>\n",
       "      <td>1.0</td>\n",
       "      <td>55.90</td>\n",
       "      <td>128.570</td>\n",
       "      <td>128.570</td>\n",
       "      <td>55.90</td>\n",
       "      <td>72.670</td>\n",
       "      <td>37.0</td>\n",
       "    </tr>\n",
       "    <tr>\n",
       "      <th>7484</th>\n",
       "      <td>7485.0</td>\n",
       "      <td>2021-05-16</td>\n",
       "      <td>2021-06-22</td>\n",
       "      <td>StepUp</td>\n",
       "      <td>Tecido</td>\n",
       "      <td>1.0</td>\n",
       "      <td>18.00</td>\n",
       "      <td>41.400</td>\n",
       "      <td>41.400</td>\n",
       "      <td>18.00</td>\n",
       "      <td>23.400</td>\n",
       "      <td>37.0</td>\n",
       "    </tr>\n",
       "    <tr>\n",
       "      <th>8038</th>\n",
       "      <td>8039.0</td>\n",
       "      <td>2021-07-09</td>\n",
       "      <td>2021-08-15</td>\n",
       "      <td>StepUp</td>\n",
       "      <td>Couro</td>\n",
       "      <td>1.0</td>\n",
       "      <td>4.40</td>\n",
       "      <td>10.120</td>\n",
       "      <td>10.120</td>\n",
       "      <td>4.40</td>\n",
       "      <td>5.720</td>\n",
       "      <td>37.0</td>\n",
       "    </tr>\n",
       "    <tr>\n",
       "      <th>8642</th>\n",
       "      <td>8643.0</td>\n",
       "      <td>2021-09-08</td>\n",
       "      <td>2021-10-15</td>\n",
       "      <td>StepUp</td>\n",
       "      <td>Tecido</td>\n",
       "      <td>1.0</td>\n",
       "      <td>18.00</td>\n",
       "      <td>41.400</td>\n",
       "      <td>41.400</td>\n",
       "      <td>18.00</td>\n",
       "      <td>23.400</td>\n",
       "      <td>37.0</td>\n",
       "    </tr>\n",
       "    <tr>\n",
       "      <th>8671</th>\n",
       "      <td>8672.0</td>\n",
       "      <td>2021-09-10</td>\n",
       "      <td>2021-10-17</td>\n",
       "      <td>Atlas</td>\n",
       "      <td>Pedra Britada</td>\n",
       "      <td>1.0</td>\n",
       "      <td>56.00</td>\n",
       "      <td>128.800</td>\n",
       "      <td>128.800</td>\n",
       "      <td>56.00</td>\n",
       "      <td>72.800</td>\n",
       "      <td>37.0</td>\n",
       "    </tr>\n",
       "    <tr>\n",
       "      <th>8892</th>\n",
       "      <td>8893.0</td>\n",
       "      <td>2021-10-02</td>\n",
       "      <td>2021-11-08</td>\n",
       "      <td>StepUp</td>\n",
       "      <td>Areia</td>\n",
       "      <td>1.0</td>\n",
       "      <td>3.59</td>\n",
       "      <td>8.257</td>\n",
       "      <td>8.257</td>\n",
       "      <td>3.59</td>\n",
       "      <td>4.667</td>\n",
       "      <td>37.0</td>\n",
       "    </tr>\n",
       "    <tr>\n",
       "      <th>8918</th>\n",
       "      <td>8919.0</td>\n",
       "      <td>2021-10-05</td>\n",
       "      <td>2021-11-11</td>\n",
       "      <td>AlphaOmega</td>\n",
       "      <td>Poliéster</td>\n",
       "      <td>1.0</td>\n",
       "      <td>8.00</td>\n",
       "      <td>18.400</td>\n",
       "      <td>18.400</td>\n",
       "      <td>8.00</td>\n",
       "      <td>10.400</td>\n",
       "      <td>37.0</td>\n",
       "    </tr>\n",
       "    <tr>\n",
       "      <th>9012</th>\n",
       "      <td>9013.0</td>\n",
       "      <td>2021-10-14</td>\n",
       "      <td>2021-11-20</td>\n",
       "      <td>Atlas</td>\n",
       "      <td>Papel</td>\n",
       "      <td>1.0</td>\n",
       "      <td>9.00</td>\n",
       "      <td>20.700</td>\n",
       "      <td>20.700</td>\n",
       "      <td>9.00</td>\n",
       "      <td>11.700</td>\n",
       "      <td>37.0</td>\n",
       "    </tr>\n",
       "    <tr>\n",
       "      <th>9030</th>\n",
       "      <td>9031.0</td>\n",
       "      <td>2021-10-16</td>\n",
       "      <td>2021-11-22</td>\n",
       "      <td>Minerva</td>\n",
       "      <td>Pedra Britada</td>\n",
       "      <td>1.0</td>\n",
       "      <td>56.00</td>\n",
       "      <td>128.800</td>\n",
       "      <td>128.800</td>\n",
       "      <td>56.00</td>\n",
       "      <td>72.800</td>\n",
       "      <td>37.0</td>\n",
       "    </tr>\n",
       "    <tr>\n",
       "      <th>9208</th>\n",
       "      <td>9209.0</td>\n",
       "      <td>2021-11-03</td>\n",
       "      <td>2021-12-10</td>\n",
       "      <td>Minerva</td>\n",
       "      <td>Areia</td>\n",
       "      <td>1.0</td>\n",
       "      <td>3.59</td>\n",
       "      <td>8.257</td>\n",
       "      <td>8.257</td>\n",
       "      <td>3.59</td>\n",
       "      <td>4.667</td>\n",
       "      <td>37.0</td>\n",
       "    </tr>\n",
       "    <tr>\n",
       "      <th>9219</th>\n",
       "      <td>9220.0</td>\n",
       "      <td>2021-11-04</td>\n",
       "      <td>2021-12-11</td>\n",
       "      <td>StepUp</td>\n",
       "      <td>Madeira</td>\n",
       "      <td>1.0</td>\n",
       "      <td>168.00</td>\n",
       "      <td>386.400</td>\n",
       "      <td>386.400</td>\n",
       "      <td>168.00</td>\n",
       "      <td>218.400</td>\n",
       "      <td>37.0</td>\n",
       "    </tr>\n",
       "    <tr>\n",
       "      <th>9230</th>\n",
       "      <td>9231.0</td>\n",
       "      <td>2021-11-05</td>\n",
       "      <td>2021-12-12</td>\n",
       "      <td>Minerva</td>\n",
       "      <td>Tecido</td>\n",
       "      <td>1.0</td>\n",
       "      <td>18.00</td>\n",
       "      <td>41.400</td>\n",
       "      <td>41.400</td>\n",
       "      <td>18.00</td>\n",
       "      <td>23.400</td>\n",
       "      <td>37.0</td>\n",
       "    </tr>\n",
       "    <tr>\n",
       "      <th>9552</th>\n",
       "      <td>9553.0</td>\n",
       "      <td>2021-12-06</td>\n",
       "      <td>2022-01-12</td>\n",
       "      <td>StepUp</td>\n",
       "      <td>Couro</td>\n",
       "      <td>1.0</td>\n",
       "      <td>4.40</td>\n",
       "      <td>10.120</td>\n",
       "      <td>10.120</td>\n",
       "      <td>4.40</td>\n",
       "      <td>5.720</td>\n",
       "      <td>37.0</td>\n",
       "    </tr>\n",
       "    <tr>\n",
       "      <th>9645</th>\n",
       "      <td>9646.0</td>\n",
       "      <td>2021-12-16</td>\n",
       "      <td>2022-01-22</td>\n",
       "      <td>StepUp</td>\n",
       "      <td>Poliéster</td>\n",
       "      <td>1.0</td>\n",
       "      <td>8.00</td>\n",
       "      <td>18.400</td>\n",
       "      <td>18.400</td>\n",
       "      <td>8.00</td>\n",
       "      <td>10.400</td>\n",
       "      <td>37.0</td>\n",
       "    </tr>\n",
       "  </tbody>\n",
       "</table>\n",
       "</div>"
      ],
      "text/plain": [
       "      Pedido     Compra    Entrega  Fornecedor        Produto  Quantidade  \\\n",
       "1460  1461.0 2019-09-12 2019-10-19     Minerva      Poliéster         1.0   \n",
       "2529  2530.0 2019-12-31 2020-02-06  NorthShore          Couro         1.0   \n",
       "3815  3816.0 2020-05-10 2020-06-16     Minerva      Poliéster         1.0   \n",
       "5722  5723.0 2020-11-18 2020-12-25     Minerva          Papel         1.0   \n",
       "6765  6766.0 2021-03-02 2021-04-08      StepUp          Areia         1.0   \n",
       "6820  6821.0 2021-03-08 2021-04-14     Minerva    Fio Algodão         1.0   \n",
       "7484  7485.0 2021-05-16 2021-06-22      StepUp         Tecido         1.0   \n",
       "8038  8039.0 2021-07-09 2021-08-15      StepUp          Couro         1.0   \n",
       "8642  8643.0 2021-09-08 2021-10-15      StepUp         Tecido         1.0   \n",
       "8671  8672.0 2021-09-10 2021-10-17       Atlas  Pedra Britada         1.0   \n",
       "8892  8893.0 2021-10-02 2021-11-08      StepUp          Areia         1.0   \n",
       "8918  8919.0 2021-10-05 2021-11-11  AlphaOmega      Poliéster         1.0   \n",
       "9012  9013.0 2021-10-14 2021-11-20       Atlas          Papel         1.0   \n",
       "9030  9031.0 2021-10-16 2021-11-22     Minerva  Pedra Britada         1.0   \n",
       "9208  9209.0 2021-11-03 2021-12-10     Minerva          Areia         1.0   \n",
       "9219  9220.0 2021-11-04 2021-12-11      StepUp        Madeira         1.0   \n",
       "9230  9231.0 2021-11-05 2021-12-12     Minerva         Tecido         1.0   \n",
       "9552  9553.0 2021-12-06 2022-01-12      StepUp          Couro         1.0   \n",
       "9645  9646.0 2021-12-16 2022-01-22      StepUp      Poliéster         1.0   \n",
       "\n",
       "      Custo Unitário  Valor  Unitário  Valor venda   Custo    Lucro  \\\n",
       "1460            8.00           18.400       18.400    8.00   10.400   \n",
       "2529            4.40           10.120       10.120    4.40    5.720   \n",
       "3815            8.00           18.400       18.400    8.00   10.400   \n",
       "5722            9.00           20.700       20.700    9.00   11.700   \n",
       "6765            3.59            8.257        8.257    3.59    4.667   \n",
       "6820           55.90          128.570      128.570   55.90   72.670   \n",
       "7484           18.00           41.400       41.400   18.00   23.400   \n",
       "8038            4.40           10.120       10.120    4.40    5.720   \n",
       "8642           18.00           41.400       41.400   18.00   23.400   \n",
       "8671           56.00          128.800      128.800   56.00   72.800   \n",
       "8892            3.59            8.257        8.257    3.59    4.667   \n",
       "8918            8.00           18.400       18.400    8.00   10.400   \n",
       "9012            9.00           20.700       20.700    9.00   11.700   \n",
       "9030           56.00          128.800      128.800   56.00   72.800   \n",
       "9208            3.59            8.257        8.257    3.59    4.667   \n",
       "9219          168.00          386.400      386.400  168.00  218.400   \n",
       "9230           18.00           41.400       41.400   18.00   23.400   \n",
       "9552            4.40           10.120       10.120    4.40    5.720   \n",
       "9645            8.00           18.400       18.400    8.00   10.400   \n",
       "\n",
       "      Tempo Envio  \n",
       "1460         37.0  \n",
       "2529         37.0  \n",
       "3815         37.0  \n",
       "5722         37.0  \n",
       "6765         37.0  \n",
       "6820         37.0  \n",
       "7484         37.0  \n",
       "8038         37.0  \n",
       "8642         37.0  \n",
       "8671         37.0  \n",
       "8892         37.0  \n",
       "8918         37.0  \n",
       "9012         37.0  \n",
       "9030         37.0  \n",
       "9208         37.0  \n",
       "9219         37.0  \n",
       "9230         37.0  \n",
       "9552         37.0  \n",
       "9645         37.0  "
      ]
     },
     "execution_count": 121,
     "metadata": {},
     "output_type": "execute_result"
    }
   ],
   "source": [
    "df[df[\"Tempo Envio\"] == 37]"
   ]
  },
  {
   "cell_type": "code",
   "execution_count": 124,
   "id": "85b46592",
   "metadata": {},
   "outputs": [],
   "source": [
    "df.to_csv(\"Novo_Compras\", index=False)"
   ]
  },
  {
   "cell_type": "code",
   "execution_count": null,
   "id": "f507c800",
   "metadata": {},
   "outputs": [],
   "source": []
  }
 ],
 "metadata": {
  "kernelspec": {
   "display_name": "Python 3 (ipykernel)",
   "language": "python",
   "name": "python3"
  },
  "language_info": {
   "codemirror_mode": {
    "name": "ipython",
    "version": 3
   },
   "file_extension": ".py",
   "mimetype": "text/x-python",
   "name": "python",
   "nbconvert_exporter": "python",
   "pygments_lexer": "ipython3",
   "version": "3.10.9"
  }
 },
 "nbformat": 4,
 "nbformat_minor": 5
}
